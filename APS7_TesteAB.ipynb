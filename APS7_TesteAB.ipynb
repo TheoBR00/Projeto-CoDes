{
 "cells": [
  {
   "cell_type": "markdown",
   "metadata": {},
   "source": [
    "# APS 7 - Teste AB"
   ]
  },
  {
   "cell_type": "markdown",
   "metadata": {},
   "source": [
    "Integrantes:\n",
    "\n",
    "**Fernando Sanches**\n",
    "\n",
    "**Maurício Ando**\n",
    "\n",
    "**Theo Barbara**"
   ]
  },
  {
   "cell_type": "markdown",
   "metadata": {},
   "source": [
    "Deadline: **24/10**\n",
    "\n",
    "Fazer junto com o grupo que levantou as amostras de *co-design*\n",
    "\n",
    "### Teste AB via permutação\n",
    "\n",
    "Agora que você sabe como fazer testes de permutação, realize um teste de diferença de médias entre as versões $A$ e $B$ "
   ]
  },
  {
   "cell_type": "markdown",
   "metadata": {},
   "source": [
    "**1.**  Descreva o que era diferente nas versões $A$ e $B$ do seu projeto. Incluir screenshots\n",
    "\n",
    "Dica: o Jupyter Notebook deixa realizar *paste* de imagens"
   ]
  },
  {
   "cell_type": "markdown",
   "metadata": {},
   "source": [
    "Em ambas as versões, o usuário devia clicar em \"Vamos jogar\". Na página do tipo A, a palavra aparecia logo no final do texto explicativo, com cor preta. "
   ]
  },
  {
   "cell_type": "markdown",
   "metadata": {},
   "source": [
    "![title](assets/img/tipo_a.JPG)\n"
   ]
  },
  {
   "cell_type": "markdown",
   "metadata": {},
   "source": [
    "Já na versão B, a expressão aparece com cor branca, dando mais destaque à palavra. "
   ]
  },
  {
   "cell_type": "markdown",
   "metadata": {},
   "source": [
    "![title](assets/img/tipo_b.JPG)"
   ]
  },
  {
   "cell_type": "markdown",
   "metadata": {},
   "source": [
    "**2.** Leia o arquivo *JSON* e o converta em *DataFrame*. Veja os exemplos na pasta [TesteAB](./TesteAB)."
   ]
  },
  {
   "cell_type": "code",
   "execution_count": 4,
   "metadata": {},
   "outputs": [],
   "source": [
    "import json\n",
    "import numpy as np\n",
    "\n",
    "arquivo = open(\"codes.json\")\n",
    "linhas = arquivo.readlines()\n",
    "texto = \"\".join(linhas)\n",
    "dados = json.loads(texto)"
   ]
  },
  {
   "cell_type": "markdown",
   "metadata": {},
   "source": [
    "**3.** Separe os tempos *elapsed* em duas listas, $A$ e $B$"
   ]
  },
  {
   "cell_type": "code",
   "execution_count": 5,
   "metadata": {},
   "outputs": [],
   "source": [
    "A=[]\n",
    "B=[]\n",
    "for item in dados.items():\n",
    "    if item[1]['filename']=='ProjetoDessofta.html':\n",
    "        A.append(item[1]['elapsed'])\n",
    "    else:\n",
    "        B.append(item[1]['elapsed'])"
   ]
  },
  {
   "cell_type": "markdown",
   "metadata": {},
   "source": [
    "**4.** Formule a hipótese nula e a hipótese alternativa para comparar as duas amostras"
   ]
  },
  {
   "cell_type": "code",
   "execution_count": 8,
   "metadata": {},
   "outputs": [
    {
     "data": {
      "text/plain": [
       "8074.768907563033"
      ]
     },
     "execution_count": 8,
     "metadata": {},
     "output_type": "execute_result"
    }
   ],
   "source": [
    "dobs=np.mean(A)-np.mean(B)\n",
    "dobs"
   ]
  },
  {
   "cell_type": "markdown",
   "metadata": {},
   "source": [
    "<b>Hipótese nula:</b> dobs = 8074,77\n",
    "\n",
    "<b>Hipótese alternativa:</b> dobs ≠ 8074,77"
   ]
  },
  {
   "cell_type": "markdown",
   "metadata": {},
   "source": [
    "**5.** Realize um teste de permutação e indique o *p-value*"
   ]
  },
  {
   "cell_type": "code",
   "execution_count": 9,
   "metadata": {},
   "outputs": [
    {
     "data": {
      "image/png": "[encoded data removed]",
      "text/plain": [
       "<matplotlib.figure.Figure at 0x1f3160f8978>"
      ]
     },
     "metadata": {
      "needs_background": "light"
     },
     "output_type": "display_data"
    }
   ],
   "source": [
    "#Teste de permutação caso 1, pois estamo comparando duas coisas \"iguais\", isto é, estamos comparando o tempo em A e em B. \n",
    "import random\n",
    "import matplotlib.pyplot as plt\n",
    "na=len(A)\n",
    "nb=len(B)\n",
    "\n",
    "mediaA=[]\n",
    "mediaB=[]\n",
    "\n",
    "C=A+B\n",
    "\n",
    "for i in range(100):\n",
    "    np.random.shuffle(C)\n",
    "    mediaA.append(np.mean(C[0:na]))\n",
    "    mediaB.append(np.mean(C[na:]))\n",
    "plt.hist(mediaA, density=True, bins=100, color='blue')\n",
    "plt.hist(mediaB, density=True, bins=100,color='red');"
   ]
  },
  {
   "cell_type": "markdown",
   "metadata": {},
   "source": [
    "**6.** Conclua o teste: uma das versões é estatisticamente melhor que a outra?"
   ]
  },
  {
   "cell_type": "code",
   "execution_count": null,
   "metadata": {},
   "outputs": [],
   "source": []
  }
 ],
 "metadata": {
  "kernelspec": {
   "display_name": "Python 3",
   "language": "python",
   "name": "python3"
  },
  "language_info": {
   "codemirror_mode": {
    "name": "ipython",
    "version": 3
   },
   "file_extension": ".py",
   "mimetype": "text/x-python",
   "name": "python",
   "nbconvert_exporter": "python",
   "pygments_lexer": "ipython3",
   "version": "3.6.4"
  }
 },
 "nbformat": 4,
 "nbformat_minor": 2
}
